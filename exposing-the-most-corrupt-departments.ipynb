{
 "cells": [
  {
   "cell_type": "markdown",
   "metadata": {
    "id": "tZyaUhowq9Ts"
   },
   "source": [
    "<a id=\"1\"></a> \n",
    "# 1- Importing Modules 😀"
   ]
  },
  {
   "cell_type": "code",
   "execution_count": 1,
   "metadata": {
    "execution": {
     "iopub.execute_input": "2024-07-18T11:07:50.144938Z",
     "iopub.status.busy": "2024-07-18T11:07:50.143883Z",
     "iopub.status.idle": "2024-07-18T11:07:51.157913Z",
     "shell.execute_reply": "2024-07-18T11:07:51.156813Z",
     "shell.execute_reply.started": "2024-07-18T11:07:50.144786Z"
    },
    "id": "MZauKTcrM749",
    "trusted": true
   },
   "outputs": [],
   "source": [
    "import pandas as pd\n",
    "import seaborn as sns\n",
    "import matplotlib\n",
    "import matplotlib.pyplot as plt\n",
    "%matplotlib inline\n",
    "\n",
    "sns.set_style('darkgrid')\n",
    "matplotlib.rcParams['font.size'] = 14\n",
    "matplotlib.rcParams['figure.figsize'] = (9, 5)\n",
    "matplotlib.rcParams['figure.facecolor'] = '#00000000'\n",
    "\n",
    "import warnings\n",
    "warnings.filterwarnings('ignore')"
   ]
  },
  {
   "cell_type": "markdown",
   "metadata": {
    "id": "_0xJmbvfq7-j"
   },
   "source": [
    "<a id=\"2\"></a> \n",
    "# 2- Loading the Data 📅"
   ]
  },
  {
   "cell_type": "code",
   "execution_count": null,
   "metadata": {
    "execution": {
     "iopub.execute_input": "2022-10-07T04:34:23.505751Z",
     "iopub.status.busy": "2022-10-07T04:34:23.504617Z",
     "iopub.status.idle": "2022-10-07T04:34:23.677913Z",
     "shell.execute_reply": "2022-10-07T04:34:23.676729Z",
     "shell.execute_reply.started": "2022-10-07T04:34:23.505713Z"
    },
    "id": "vJx8n-v5PYHE",
    "trusted": true
   },
   "outputs": [],
   "source": [
    "df=pd.read_csv('../input/corruption/data.csv',parse_dates=[\"Date\"])"
   ]
  },
  {
   "cell_type": "code",
   "execution_count": null,
   "metadata": {
    "execution": {
     "iopub.execute_input": "2022-10-07T04:34:23.680865Z",
     "iopub.status.busy": "2022-10-07T04:34:23.67956Z",
     "iopub.status.idle": "2022-10-07T04:34:23.706622Z",
     "shell.execute_reply": "2022-10-07T04:34:23.70516Z",
     "shell.execute_reply.started": "2022-10-07T04:34:23.680763Z"
    },
    "trusted": true
   },
   "outputs": [],
   "source": [
    "df.head()"
   ]
  },
  {
   "cell_type": "markdown",
   "metadata": {},
   "source": [
    "<a id=\"3\"></a> \n",
    "# 3 - EDA | Let's Explore 👓"
   ]
  },
  {
   "cell_type": "code",
   "execution_count": null,
   "metadata": {
    "execution": {
     "iopub.execute_input": "2022-10-07T04:34:23.710908Z",
     "iopub.status.busy": "2022-10-07T04:34:23.710336Z",
     "iopub.status.idle": "2022-10-07T04:34:23.737561Z",
     "shell.execute_reply": "2022-10-07T04:34:23.736023Z",
     "shell.execute_reply.started": "2022-10-07T04:34:23.710861Z"
    },
    "trusted": true
   },
   "outputs": [],
   "source": [
    "df.info()"
   ]
  },
  {
   "cell_type": "code",
   "execution_count": null,
   "metadata": {
    "execution": {
     "iopub.execute_input": "2022-10-07T04:34:23.740107Z",
     "iopub.status.busy": "2022-10-07T04:34:23.739629Z",
     "iopub.status.idle": "2022-10-07T04:34:23.751146Z",
     "shell.execute_reply": "2022-10-07T04:34:23.749952Z",
     "shell.execute_reply.started": "2022-10-07T04:34:23.740061Z"
    },
    "id": "0iKN_p4trEtD",
    "outputId": "70bab066-52d4-43a9-c2c9-486fccb6da78",
    "trusted": true
   },
   "outputs": [],
   "source": [
    "r,c=df.shape\n",
    "print('The dataset has ',r,' rows and ',c,' columns.' )"
   ]
  },
  {
   "cell_type": "code",
   "execution_count": null,
   "metadata": {
    "execution": {
     "iopub.execute_input": "2022-10-07T04:34:23.753381Z",
     "iopub.status.busy": "2022-10-07T04:34:23.752857Z",
     "iopub.status.idle": "2022-10-07T04:34:23.783455Z",
     "shell.execute_reply": "2022-10-07T04:34:23.781829Z",
     "shell.execute_reply.started": "2022-10-07T04:34:23.753335Z"
    },
    "trusted": true
   },
   "outputs": [],
   "source": [
    "df.describe()"
   ]
  },
  {
   "cell_type": "code",
   "execution_count": null,
   "metadata": {
    "execution": {
     "iopub.execute_input": "2022-10-07T04:34:23.797224Z",
     "iopub.status.busy": "2022-10-07T04:34:23.785246Z",
     "iopub.status.idle": "2022-10-07T04:34:23.823596Z",
     "shell.execute_reply": "2022-10-07T04:34:23.822243Z",
     "shell.execute_reply.started": "2022-10-07T04:34:23.785922Z"
    },
    "id": "lG7GxMXoQcSn",
    "outputId": "b7d04523-b459-45cd-8cdc-ecf3ef3bd8fc",
    "trusted": true
   },
   "outputs": [],
   "source": [
    "df.describe(include=object)"
   ]
  },
  {
   "cell_type": "code",
   "execution_count": null,
   "metadata": {
    "execution": {
     "iopub.execute_input": "2022-10-07T04:34:23.825929Z",
     "iopub.status.busy": "2022-10-07T04:34:23.825195Z",
     "iopub.status.idle": "2022-10-07T04:34:23.838939Z",
     "shell.execute_reply": "2022-10-07T04:34:23.837376Z",
     "shell.execute_reply.started": "2022-10-07T04:34:23.825883Z"
    },
    "trusted": true
   },
   "outputs": [],
   "source": [
    "df.isnull().sum()"
   ]
  },
  {
   "cell_type": "markdown",
   "metadata": {},
   "source": [
    "## Checking for nulls 🤔"
   ]
  },
  {
   "cell_type": "code",
   "execution_count": 2,
   "metadata": {
    "execution": {
     "iopub.execute_input": "2022-10-07T04:34:23.841447Z",
     "iopub.status.busy": "2022-10-07T04:34:23.840681Z",
     "iopub.status.idle": "2022-10-07T04:34:23.860801Z",
     "shell.execute_reply": "2022-10-07T04:34:23.85962Z",
     "shell.execute_reply.started": "2022-10-07T04:34:23.841397Z"
    },
    "trusted": true
   },
   "outputs": [
    {
     "ename": "NameError",
     "evalue": "name 'df' is not defined",
     "output_type": "error",
     "traceback": [
      "\u001b[1;31m---------------------------------------------------------------------------\u001b[0m",
      "\u001b[1;31mNameError\u001b[0m                                 Traceback (most recent call last)",
      "Cell \u001b[1;32mIn[2], line 1\u001b[0m\n\u001b[1;32m----> 1\u001b[0m \u001b[43mdf\u001b[49m[df[\u001b[38;5;124m'\u001b[39m\u001b[38;5;124mDepartment\u001b[39m\u001b[38;5;124m'\u001b[39m]\u001b[38;5;241m.\u001b[39misnull()]\u001b[38;5;241m.\u001b[39mhead()\n",
      "\u001b[1;31mNameError\u001b[0m: name 'df' is not defined"
     ]
    }
   ],
   "source": [
    "df[df['Department'].isnull()].head()"
   ]
  },
  {
   "cell_type": "code",
   "execution_count": null,
   "metadata": {
    "execution": {
     "iopub.execute_input": "2022-10-07T04:34:23.867999Z",
     "iopub.status.busy": "2022-10-07T04:34:23.867397Z",
     "iopub.status.idle": "2022-10-07T04:34:23.87453Z",
     "shell.execute_reply": "2022-10-07T04:34:23.873379Z",
     "shell.execute_reply.started": "2022-10-07T04:34:23.867947Z"
    },
    "trusted": true
   },
   "outputs": [],
   "source": [
    "df['Department'].fillna('Others',inplace=True)"
   ]
  },
  {
   "cell_type": "code",
   "execution_count": null,
   "metadata": {
    "execution": {
     "iopub.execute_input": "2022-10-07T04:34:23.876915Z",
     "iopub.status.busy": "2022-10-07T04:34:23.876075Z",
     "iopub.status.idle": "2022-10-07T04:34:26.797509Z",
     "shell.execute_reply": "2022-10-07T04:34:26.796204Z",
     "shell.execute_reply.started": "2022-10-07T04:34:23.876868Z"
    },
    "trusted": true
   },
   "outputs": [],
   "source": [
    "sns.histplot(df['Amount(INR)'],kde=True,bins=1000);\n",
    "#data is highly skewed."
   ]
  },
  {
   "cell_type": "markdown",
   "metadata": {},
   "source": [
    "<a id=\"5\"></a> \n",
    "# 5- Data Cleaning and Column Split 🤠"
   ]
  },
  {
   "cell_type": "code",
   "execution_count": null,
   "metadata": {
    "execution": {
     "iopub.execute_input": "2022-10-07T04:34:26.799762Z",
     "iopub.status.busy": "2022-10-07T04:34:26.799203Z",
     "iopub.status.idle": "2022-10-07T04:34:26.810581Z",
     "shell.execute_reply": "2022-10-07T04:34:26.80946Z",
     "shell.execute_reply.started": "2022-10-07T04:34:26.799687Z"
    },
    "trusted": true
   },
   "outputs": [],
   "source": [
    "df['Amount(INR)'].quantile(0.90)"
   ]
  },
  {
   "cell_type": "code",
   "execution_count": null,
   "metadata": {
    "execution": {
     "iopub.execute_input": "2022-10-07T04:34:26.81338Z",
     "iopub.status.busy": "2022-10-07T04:34:26.81252Z",
     "iopub.status.idle": "2022-10-07T04:34:26.83461Z",
     "shell.execute_reply": "2022-10-07T04:34:26.833593Z",
     "shell.execute_reply.started": "2022-10-07T04:34:26.813336Z"
    },
    "trusted": true
   },
   "outputs": [],
   "source": [
    "# Switching to only relevant data\n",
    "df=df[df['Amount(INR)']<df['Amount(INR)'].quantile(0.90)]\n",
    "#df"
   ]
  },
  {
   "cell_type": "code",
   "execution_count": null,
   "metadata": {
    "execution": {
     "iopub.execute_input": "2022-10-07T04:34:26.837421Z",
     "iopub.status.busy": "2022-10-07T04:34:26.836601Z",
     "iopub.status.idle": "2022-10-07T04:34:27.391007Z",
     "shell.execute_reply": "2022-10-07T04:34:27.389614Z",
     "shell.execute_reply.started": "2022-10-07T04:34:26.837375Z"
    },
    "trusted": true
   },
   "outputs": [],
   "source": [
    "sns.histplot(df['Amount(INR)'],kde=True);"
   ]
  },
  {
   "cell_type": "code",
   "execution_count": null,
   "metadata": {
    "execution": {
     "iopub.execute_input": "2022-10-07T04:34:27.393025Z",
     "iopub.status.busy": "2022-10-07T04:34:27.392579Z",
     "iopub.status.idle": "2022-10-07T04:34:27.406988Z",
     "shell.execute_reply": "2022-10-07T04:34:27.4056Z",
     "shell.execute_reply.started": "2022-10-07T04:34:27.392972Z"
    },
    "id": "Q5GRanB9Y39D",
    "outputId": "264a26a7-58ea-465c-f9ba-3ae234408f58",
    "trusted": true
   },
   "outputs": [],
   "source": [
    "df.isnull().sum()"
   ]
  },
  {
   "cell_type": "code",
   "execution_count": null,
   "metadata": {
    "execution": {
     "iopub.execute_input": "2022-10-07T04:34:27.410356Z",
     "iopub.status.busy": "2022-10-07T04:34:27.409306Z",
     "iopub.status.idle": "2022-10-07T04:34:27.425664Z",
     "shell.execute_reply": "2022-10-07T04:34:27.424228Z",
     "shell.execute_reply.started": "2022-10-07T04:34:27.410305Z"
    },
    "id": "FC4fN-d3aM0l",
    "outputId": "f74a0f68-c51d-4abd-881e-b77a44aa1e91",
    "trusted": true
   },
   "outputs": [],
   "source": [
    "df.sample(5)"
   ]
  },
  {
   "cell_type": "code",
   "execution_count": null,
   "metadata": {
    "execution": {
     "iopub.execute_input": "2022-10-07T04:34:27.427985Z",
     "iopub.status.busy": "2022-10-07T04:34:27.427427Z",
     "iopub.status.idle": "2022-10-07T04:34:27.444248Z",
     "shell.execute_reply": "2022-10-07T04:34:27.443263Z",
     "shell.execute_reply.started": "2022-10-07T04:34:27.427938Z"
    },
    "id": "OLRlBdi3aiRU",
    "outputId": "58f279b5-eab9-46b1-a456-2ae76031483a",
    "trusted": true
   },
   "outputs": [],
   "source": [
    "### Exploring\n",
    "df.Department.unique()"
   ]
  },
  {
   "cell_type": "code",
   "execution_count": null,
   "metadata": {
    "execution": {
     "iopub.execute_input": "2022-10-07T04:34:27.446043Z",
     "iopub.status.busy": "2022-10-07T04:34:27.445394Z",
     "iopub.status.idle": "2022-10-07T04:34:27.463177Z",
     "shell.execute_reply": "2022-10-07T04:34:27.461961Z",
     "shell.execute_reply.started": "2022-10-07T04:34:27.446007Z"
    },
    "trusted": true
   },
   "outputs": [],
   "source": [
    "df[['City','Province']]=df['Location'].str.split(',',expand=True)"
   ]
  },
  {
   "cell_type": "code",
   "execution_count": null,
   "metadata": {
    "execution": {
     "iopub.execute_input": "2022-10-07T04:34:27.465454Z",
     "iopub.status.busy": "2022-10-07T04:34:27.464671Z",
     "iopub.status.idle": "2022-10-07T04:34:27.485465Z",
     "shell.execute_reply": "2022-10-07T04:34:27.484231Z",
     "shell.execute_reply.started": "2022-10-07T04:34:27.465419Z"
    },
    "trusted": true
   },
   "outputs": [],
   "source": [
    "df.head()"
   ]
  },
  {
   "cell_type": "markdown",
   "metadata": {
    "id": "rSJaABLxsNoH"
   },
   "source": [
    "### There is no correlation between views and amount."
   ]
  },
  {
   "cell_type": "code",
   "execution_count": null,
   "metadata": {
    "execution": {
     "iopub.execute_input": "2022-10-07T04:34:27.488548Z",
     "iopub.status.busy": "2022-10-07T04:34:27.486867Z",
     "iopub.status.idle": "2022-10-07T04:34:27.77822Z",
     "shell.execute_reply": "2022-10-07T04:34:27.777024Z",
     "shell.execute_reply.started": "2022-10-07T04:34:27.488502Z"
    },
    "id": "mmLIuOuwcSk8",
    "outputId": "c2730cc0-0c84-446f-cde3-6330a4802562",
    "trusted": true
   },
   "outputs": [],
   "source": [
    "sns.heatmap(df.corr(), annot=True);"
   ]
  },
  {
   "cell_type": "markdown",
   "metadata": {},
   "source": [
    "<a id=\"6\"></a> \n",
    "# 6- Answering Questions 🕵️‍♂️"
   ]
  },
  {
   "cell_type": "markdown",
   "metadata": {
    "id": "IjuMzZr_dVjV"
   },
   "source": [
    "# Q7 -  Most Bribes are paid in which cities?"
   ]
  },
  {
   "cell_type": "code",
   "execution_count": null,
   "metadata": {
    "execution": {
     "iopub.execute_input": "2022-10-07T04:34:27.780124Z",
     "iopub.status.busy": "2022-10-07T04:34:27.779707Z",
     "iopub.status.idle": "2022-10-07T04:34:27.792017Z",
     "shell.execute_reply": "2022-10-07T04:34:27.790694Z",
     "shell.execute_reply.started": "2022-10-07T04:34:27.780086Z"
    },
    "id": "xMS7oCnsdaWS",
    "trusted": true
   },
   "outputs": [],
   "source": [
    "most_bribe_area=df.groupby(['City'])['Amount(INR)'].agg(['count','sum']).sort_values(by='count',ascending=False).head(10)"
   ]
  },
  {
   "cell_type": "code",
   "execution_count": null,
   "metadata": {
    "execution": {
     "iopub.execute_input": "2022-10-07T04:34:27.795532Z",
     "iopub.status.busy": "2022-10-07T04:34:27.793761Z",
     "iopub.status.idle": "2022-10-07T04:34:27.808504Z",
     "shell.execute_reply": "2022-10-07T04:34:27.807209Z",
     "shell.execute_reply.started": "2022-10-07T04:34:27.795438Z"
    },
    "id": "lzjK0swif10v",
    "outputId": "1764d60d-f0e0-40a0-e639-48e33071bcc2",
    "trusted": true
   },
   "outputs": [],
   "source": [
    "most_bribe_area"
   ]
  },
  {
   "cell_type": "code",
   "execution_count": null,
   "metadata": {
    "execution": {
     "iopub.execute_input": "2022-10-07T04:34:27.811348Z",
     "iopub.status.busy": "2022-10-07T04:34:27.810459Z",
     "iopub.status.idle": "2022-10-07T04:34:28.187527Z",
     "shell.execute_reply": "2022-10-07T04:34:28.18648Z",
     "shell.execute_reply.started": "2022-10-07T04:34:27.811259Z"
    },
    "id": "97DW5Pj1eKlo",
    "outputId": "dcdb1809-bb0d-47db-9960-490ae53d79d3",
    "trusted": true
   },
   "outputs": [],
   "source": [
    "sns.barplot(y=most_bribe_area.index,x=most_bribe_area['count'])\n",
    "plt.xlabel('Count')\n",
    "plt.ylabel(\"Cities\")\n",
    "plt.title('Most Bribes taken by City?');\n",
    "# Bangalore,Karnataka has the highest number of reported cases against bribery"
   ]
  },
  {
   "cell_type": "markdown",
   "metadata": {},
   "source": [
    "### Q7-B- Most Bribes are paid in which states?"
   ]
  },
  {
   "cell_type": "code",
   "execution_count": null,
   "metadata": {
    "execution": {
     "iopub.execute_input": "2022-10-07T04:34:28.189739Z",
     "iopub.status.busy": "2022-10-07T04:34:28.189026Z",
     "iopub.status.idle": "2022-10-07T04:34:28.542515Z",
     "shell.execute_reply": "2022-10-07T04:34:28.54116Z",
     "shell.execute_reply.started": "2022-10-07T04:34:28.189697Z"
    },
    "trusted": true
   },
   "outputs": [],
   "source": [
    "most_bribe_province=df.groupby(['Province'])['Amount(INR)'].agg(['count','sum']).sort_values(by='count',ascending=False).head(10)\n",
    "sns.barplot(y=most_bribe_province.index,x=most_bribe_province['count']);"
   ]
  },
  {
   "cell_type": "markdown",
   "metadata": {
    "id": "EXIVF650g3oo"
   },
   "source": [
    "<a id=\"7\"></a> \n",
    "# Q8- Which department gets paid the most bribe?"
   ]
  },
  {
   "cell_type": "code",
   "execution_count": null,
   "metadata": {
    "execution": {
     "iopub.execute_input": "2022-10-07T04:34:28.544573Z",
     "iopub.status.busy": "2022-10-07T04:34:28.543986Z",
     "iopub.status.idle": "2022-10-07T04:34:28.554024Z",
     "shell.execute_reply": "2022-10-07T04:34:28.55276Z",
     "shell.execute_reply.started": "2022-10-07T04:34:28.544521Z"
    },
    "id": "NtZ1sEBfg782",
    "outputId": "f07df044-d501-462d-a6b2-9c1a2853f6b4",
    "trusted": true
   },
   "outputs": [],
   "source": [
    "depart_freq=df.groupby('Department')['Amount(INR)'].agg(['count','sum']).sort_values(by='count',ascending=False).head(10)\n",
    "#Traffic taking the top of lists"
   ]
  },
  {
   "cell_type": "code",
   "execution_count": null,
   "metadata": {
    "execution": {
     "iopub.execute_input": "2022-10-07T04:34:28.556216Z",
     "iopub.status.busy": "2022-10-07T04:34:28.555802Z",
     "iopub.status.idle": "2022-10-07T04:34:28.905456Z",
     "shell.execute_reply": "2022-10-07T04:34:28.904242Z",
     "shell.execute_reply.started": "2022-10-07T04:34:28.556182Z"
    },
    "trusted": true
   },
   "outputs": [],
   "source": [
    "sns.barplot(y=depart_freq.index,x=depart_freq['count']);"
   ]
  },
  {
   "cell_type": "markdown",
   "metadata": {},
   "source": [
    "- Traffic is higher as expected. Notice there are two bars of traffic."
   ]
  },
  {
   "cell_type": "markdown",
   "metadata": {
    "id": "t0esCwU2tf0i"
   },
   "source": [
    "**Departments which take most bribe on average and overall.**"
   ]
  },
  {
   "cell_type": "code",
   "execution_count": null,
   "metadata": {
    "execution": {
     "iopub.execute_input": "2022-10-07T04:34:28.907782Z",
     "iopub.status.busy": "2022-10-07T04:34:28.906746Z",
     "iopub.status.idle": "2022-10-07T04:34:28.923986Z",
     "shell.execute_reply": "2022-10-07T04:34:28.923012Z",
     "shell.execute_reply.started": "2022-10-07T04:34:28.907749Z"
    },
    "id": "vhH_xK25he0E",
    "outputId": "7c76262a-b1eb-483d-f171-9ef5f743bd7b",
    "trusted": true
   },
   "outputs": [],
   "source": [
    "depart_sum=df.groupby('Department')['Amount(INR)'].agg(['mean','sum']).sort_values(by='sum',ascending=False).head(10)\n",
    "depart_sum"
   ]
  },
  {
   "cell_type": "code",
   "execution_count": null,
   "metadata": {
    "execution": {
     "iopub.execute_input": "2022-10-07T04:34:28.930037Z",
     "iopub.status.busy": "2022-10-07T04:34:28.929262Z",
     "iopub.status.idle": "2022-10-07T04:34:29.297248Z",
     "shell.execute_reply": "2022-10-07T04:34:29.295898Z",
     "shell.execute_reply.started": "2022-10-07T04:34:28.929991Z"
    },
    "trusted": true
   },
   "outputs": [],
   "source": [
    "sns.barplot(y=depart_sum.index,x=depart_sum['sum']);"
   ]
  },
  {
   "cell_type": "markdown",
   "metadata": {
    "id": "U4lhScIGt5E5"
   },
   "source": [
    "<a id=\"9\"></a> \n",
    "# 9- Time Series Analysis ⌚⌛"
   ]
  },
  {
   "cell_type": "code",
   "execution_count": null,
   "metadata": {
    "execution": {
     "iopub.execute_input": "2022-10-07T04:34:29.686365Z",
     "iopub.status.busy": "2022-10-07T04:34:29.685294Z",
     "iopub.status.idle": "2022-10-07T04:34:29.70469Z",
     "shell.execute_reply": "2022-10-07T04:34:29.703601Z",
     "shell.execute_reply.started": "2022-10-07T04:34:29.686314Z"
    },
    "id": "N6HhZfgjieLA",
    "outputId": "3568a763-5f44-4345-ed1e-c0784312c967",
    "trusted": true
   },
   "outputs": [],
   "source": [
    "df_day=df[[\"Amount(INR)\",'Date']].copy()\n",
    "df_day.head()"
   ]
  },
  {
   "cell_type": "code",
   "execution_count": null,
   "metadata": {
    "execution": {
     "iopub.execute_input": "2022-10-07T04:34:29.707391Z",
     "iopub.status.busy": "2022-10-07T04:34:29.706076Z",
     "iopub.status.idle": "2022-10-07T04:34:29.726324Z",
     "shell.execute_reply": "2022-10-07T04:34:29.725003Z",
     "shell.execute_reply.started": "2022-10-07T04:34:29.707343Z"
    },
    "trusted": true
   },
   "outputs": [],
   "source": [
    "df_day[\"Day_of_month\"]=df[\"Date\"].dt.day\n",
    "df_day[\"Week_of_year\"]=df[\"Date\"].dt.week\n",
    "df_day[\"Year\"]=df[\"Date\"].dt.year\n",
    "df_day[\"Month\"]=df[\"Date\"].dt.month\n",
    "df_day['Day_of_week']=df['Date'].dt.dayofweek"
   ]
  },
  {
   "cell_type": "code",
   "execution_count": null,
   "metadata": {
    "execution": {
     "iopub.execute_input": "2022-10-07T04:34:29.730378Z",
     "iopub.status.busy": "2022-10-07T04:34:29.729088Z",
     "iopub.status.idle": "2022-10-07T04:34:29.750538Z",
     "shell.execute_reply": "2022-10-07T04:34:29.749184Z",
     "shell.execute_reply.started": "2022-10-07T04:34:29.730327Z"
    },
    "trusted": true
   },
   "outputs": [],
   "source": [
    "df_day"
   ]
  },
  {
   "cell_type": "markdown",
   "metadata": {},
   "source": [
    "### Bribes paid by days of the month"
   ]
  },
  {
   "cell_type": "code",
   "execution_count": null,
   "metadata": {
    "execution": {
     "iopub.execute_input": "2022-10-07T04:34:29.753572Z",
     "iopub.status.busy": "2022-10-07T04:34:29.752331Z",
     "iopub.status.idle": "2022-10-07T04:34:30.145265Z",
     "shell.execute_reply": "2022-10-07T04:34:30.144017Z",
     "shell.execute_reply.started": "2022-10-07T04:34:29.753524Z"
    },
    "id": "L4bTG7DZl-fb",
    "outputId": "01ba3892-f775-4a5d-9145-0f4353aa2a07",
    "trusted": true
   },
   "outputs": [],
   "source": [
    "sns.histplot(data=df_day[\"Day_of_month\"],bins=31)\n",
    "plt.ylabel(\"Number of bribes taken\")\n",
    "plt.title(\"Days of the Month\");"
   ]
  },
  {
   "cell_type": "markdown",
   "metadata": {},
   "source": [
    "### Bribes paid by Years"
   ]
  },
  {
   "cell_type": "code",
   "execution_count": null,
   "metadata": {
    "execution": {
     "iopub.execute_input": "2022-10-07T04:34:30.147368Z",
     "iopub.status.busy": "2022-10-07T04:34:30.146966Z",
     "iopub.status.idle": "2022-10-07T04:34:30.508052Z",
     "shell.execute_reply": "2022-10-07T04:34:30.506673Z",
     "shell.execute_reply.started": "2022-10-07T04:34:30.147332Z"
    },
    "trusted": true
   },
   "outputs": [],
   "source": [
    "sns.histplot(data=df_day[\"Year\"])\n",
    "plt.ylabel(\"Number of bribes taken\")\n",
    "plt.title(\"Years\");"
   ]
  },
  {
   "cell_type": "code",
   "execution_count": null,
   "metadata": {
    "execution": {
     "iopub.execute_input": "2022-10-07T04:34:30.510837Z",
     "iopub.status.busy": "2022-10-07T04:34:30.509708Z",
     "iopub.status.idle": "2022-10-07T04:34:30.857528Z",
     "shell.execute_reply": "2022-10-07T04:34:30.856386Z",
     "shell.execute_reply.started": "2022-10-07T04:34:30.510787Z"
    },
    "trusted": true
   },
   "outputs": [],
   "source": [
    "sns.histplot(data=df_day[\"Month\"],bins=12)\n",
    "plt.ylabel(\"Number of bribes taken\")\n",
    "plt.title(\"Bribes paid per month\");"
   ]
  },
  {
   "cell_type": "markdown",
   "metadata": {
    "id": "Y3pDGV4zuWnr"
   },
   "source": [
    "**It can be seen that the day of the month doesn't affect it.**"
   ]
  },
  {
   "cell_type": "code",
   "execution_count": null,
   "metadata": {
    "execution": {
     "iopub.execute_input": "2022-10-07T04:35:49.726379Z",
     "iopub.status.busy": "2022-10-07T04:35:49.725926Z",
     "iopub.status.idle": "2022-10-07T04:35:50.022982Z",
     "shell.execute_reply": "2022-10-07T04:35:50.021856Z",
     "shell.execute_reply.started": "2022-10-07T04:35:49.726344Z"
    },
    "id": "HRjtOlG8nq_n",
    "outputId": "cce0a109-653e-45d6-b251-1d74222a2af9",
    "trusted": true
   },
   "outputs": [],
   "source": [
    "sns.histplot(data=df_day[\"Day_of_week\"],bins=7)\n",
    "plt.ylabel(\"Number of bribes taken\")\n",
    "plt.title(\"Days of the WEEK\")\n",
    "plt.xticks([0, 1, 2,3,4,5,6], ['Monday','Tuesday','Wednesday','Thursday','Friday','Saturday','Sunday'],rotation=90);"
   ]
  },
  {
   "cell_type": "markdown",
   "metadata": {
    "id": "S4TwIOXSupcN"
   },
   "source": [
    "**It is intresting to note that On Sunday bribes are paid less often**"
   ]
  },
  {
   "cell_type": "code",
   "execution_count": null,
   "metadata": {
    "execution": {
     "iopub.execute_input": "2022-10-07T04:34:31.125331Z",
     "iopub.status.busy": "2022-10-07T04:34:31.124681Z",
     "iopub.status.idle": "2022-10-07T04:34:31.608242Z",
     "shell.execute_reply": "2022-10-07T04:34:31.607175Z",
     "shell.execute_reply.started": "2022-10-07T04:34:31.12529Z"
    },
    "id": "oYAKcD9RqET3",
    "outputId": "9e7c6001-546f-48f1-c6ca-54c077299316",
    "trusted": true
   },
   "outputs": [],
   "source": [
    "sns.heatmap(df_day.corr(),annot=True)"
   ]
  },
  {
   "cell_type": "markdown",
   "metadata": {
    "id": "7tIV00m0u_gZ"
   },
   "source": [
    "<a id=\"10\"></a> \n",
    "# 10- Conclusion ✨🌠:\n",
    "\n",
    "\n",
    "*   The amount of bribe taken doesn't affect the number of viewers.\n",
    "*   In Banglore, the highest and most numbers of bribes are paid.\n",
    "*   Karnataka is the state where Bribes are paid the most.\n",
    "*   The Traffic Department gets has the highest bribes taking count.\n",
    "*   Bribes are taken less frequently on Sundays.\n",
    "*   Highest number of bribes taking cases are reported in 2016 and 2019.\n",
    "\n"
   ]
  }
 ],
 "metadata": {
  "kaggle": {
   "accelerator": "none",
   "dataSources": [
    {
     "datasetId": 2429580,
     "sourceId": 4109610,
     "sourceType": "datasetVersion"
    }
   ],
   "dockerImageVersionId": 30260,
   "isGpuEnabled": false,
   "isInternetEnabled": false,
   "language": "python",
   "sourceType": "notebook"
  },
  "kernelspec": {
   "display_name": "Python 3",
   "language": "python",
   "name": "python3"
  },
  "language_info": {
   "codemirror_mode": {
    "name": "ipython",
    "version": 3
   },
   "file_extension": ".py",
   "mimetype": "text/x-python",
   "name": "python",
   "nbconvert_exporter": "python",
   "pygments_lexer": "ipython3",
   "version": "3.12.5"
  }
 },
 "nbformat": 4,
 "nbformat_minor": 4
}
